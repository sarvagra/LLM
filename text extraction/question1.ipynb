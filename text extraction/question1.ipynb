{
 "cells": [
  {
   "cell_type": "markdown",
   "metadata": {},
   "source": [
    "**PROBLEM STATEMENT:**\n",
    "\n",
    "RapidRoute Solutions is a logistics and delivery company that relies on accurate and standardized address data to optimize package routing. They faced issues manually collecting and verifying new addresses for testing their planning software. To solve this, they want an automated address generator using a language model that provides realistic, standardized U.S. addresses suitable for direct integration.\n",
    "\n",
    "**Task:**\n",
    "\n",
    "Design the request body for an OpenAI chat completion call that:\n",
    "\n",
    "- Uses model `gpt-4o-mini`\n",
    "- Includes a system message: `\"Respond in JSON\"`\n",
    "- Includes a user message: `\"Generate 10 random addresses in the US\"`\n",
    "- Uses structured outputs to respond with an object `addresses`, which is an array of objects each having:\n",
    "  - `country` (string)\n",
    "  - `county` (string)\n",
    "  - `zip` (number)\n",
    "- Sets `additionalProperties` to `false` to prevent extra unwanted fields\n",
    "\n",
    "\n"
   ]
  },
  {
   "cell_type": "code",
   "execution_count": null,
   "metadata": {},
   "outputs": [],
   "source": [
    "import httpx\n",
    "import os\n",
    "from dotenv import load_dotenv\n",
    "import json"
   ]
  },
  {
   "cell_type": "code",
   "execution_count": null,
   "metadata": {},
   "outputs": [],
   "source": [
    "OPENAI_API_KEY=os.getenv(\"OPENAI_API_KEY\")\n",
    "print(\"OPENAI_API_KEY:\", OPENAI_API_KEY)\n"
   ]
  },
  {
   "cell_type": "code",
   "execution_count": 6,
   "metadata": {},
   "outputs": [],
   "source": [
    "schema={\n",
    "  \"type\": \"object\",\n",
    "  \"properties\": {\n",
    "    \"addresses\": {\n",
    "      \"type\": \"array\",\n",
    "      \"items\": {\n",
    "        \"type\": \"object\",\n",
    "        \"properties\": {\n",
    "          \"country\": { \"type\": \"string\" },\n",
    "          \"county\": { \"type\": \"string\" },\n",
    "          \"zip\": { \"type\": \"number\" }\n",
    "        },\n",
    "        \"required\": [\"country\", \"county\", \"zip\"],\n",
    "        \"additionalProperties\": False\n",
    "      }\n",
    "    }\n",
    "  },\n",
    "  \"required\": [\"addresses\"],\n",
    "  \"additionalProperties\": False\n",
    "}"
   ]
  },
  {
   "cell_type": "code",
   "execution_count": 20,
   "metadata": {},
   "outputs": [],
   "source": [
    "headers = {\n",
    "    \"Authorization\": f\"Bearer {OPENAI_API_KEY}\",\n",
    "    \"Content-Type\": \"application/json\"\n",
    "}\n",
    "payload={\n",
    "    \"model\": \"gpt-4o-mini\",\n",
    "    \"response_format\": {\n",
    "    \"type\": \"json_object\"},\n",
    "    \"tools\":[\n",
    "        {\"type\": \"function\",\"function\": {\"name\":\"generate_addresses\",\"description\":\"Generate a list of 10 addresses with country, county, and zip code.\",\"parameters\":schema}}\n",
    "    ],\n",
    "    \"tool_choice\": {\"type\": \"function\",\"function\": {\"name\":\"generate_addresses\"}},\n",
    "    \"messages\" : [\n",
    "        {\n",
    "                \"role\": \"system\",\n",
    "                \"content\": \"Respond in JSON\"\n",
    "        },\n",
    "        {\n",
    "                \"role\": \"user\",\n",
    "                \"content\": \"Generate a list of 10 random addresses in the US with country, county, and zip code.\"\n",
    "            }\n",
    "    ]\n",
    "}\n",
    "\n",
    "\n"
   ]
  },
  {
   "cell_type": "code",
   "execution_count": 23,
   "metadata": {},
   "outputs": [
    {
     "name": "stdout",
     "output_type": "stream",
     "text": [
      "{'id': 'chatcmpl-BczToZJpbeqirjPne6oljjb9W25Do', 'object': 'chat.completion', 'created': 1748632492, 'model': 'gpt-4o-mini-2024-07-18', 'choices': [{'index': 0, 'message': {'role': 'assistant', 'content': None, 'tool_calls': [{'id': 'call_ADU99uthCSuilUktz0T0qejI', 'type': 'function', 'function': {'name': 'generate_addresses', 'arguments': '{\"addresses\":[{\"country\":\"United States\",\"county\":\"Los Angeles\",\"zip\":90001},{\"country\":\"United States\",\"county\":\"Cook\",\"zip\":60601},{\"country\":\"United States\",\"county\":\"Harris\",\"zip\":77001},{\"country\":\"United States\",\"county\":\"Maricopa\",\"zip\":85001},{\"country\":\"United States\",\"county\":\"San Diego\",\"zip\":92101},{\"country\":\"United States\",\"county\":\"King\",\"zip\":98001},{\"country\":\"United States\",\"county\":\"Miami-Dade\",\"zip\":33101},{\"country\":\"United States\",\"county\":\"Dallas\",\"zip\":75201},{\"country\":\"United States\",\"county\":\"Santa Clara\",\"zip\":95101},{\"country\":\"United States\",\"county\":\"Clark\",\"zip\":89101}]}'}}], 'refusal': None, 'annotations': []}, 'logprobs': None, 'finish_reason': 'stop'}], 'usage': {'prompt_tokens': 99, 'completion_tokens': 153, 'total_tokens': 252, 'prompt_tokens_details': {'cached_tokens': 0, 'audio_tokens': 0}, 'completion_tokens_details': {'reasoning_tokens': 0, 'audio_tokens': 0, 'accepted_prediction_tokens': 0, 'rejected_prediction_tokens': 0}}, 'service_tier': 'default', 'system_fingerprint': 'fp_62a23a81ef', 'monthlyCost': 0.05991299999999999, 'cost': 0.001215, 'monthlyRequests': 82, 'costError': 'crypto.createHash is not a function'}\n"
     ]
    }
   ],
   "source": [
    "response = httpx.post(\"https://aiproxy.sanand.workers.dev/openai/v1/chat/completions\", headers=headers, json=payload,timeout=30.0) \n",
    "result= response.json()\n",
    "print(result) "
   ]
  },
  {
   "cell_type": "code",
   "execution_count": null,
   "metadata": {},
   "outputs": [],
   "source": [
    "formatted_result = {\n",
    "    'id': 'chatcmpl-BczSLGC45miMoGphYklRlAVPOVLKJ',\n",
    "    'object': 'chat.completion',\n",
    "    'created': 1748632401,\n",
    "    'model': 'gpt-4o-mini-2024-07-18',\n",
    "    'choices': [\n",
    "        {\n",
    "            'index': 0,\n",
    "            'message': {\n",
    "                'role': 'assistant',\n",
    "                'content': None,\n",
    "                'tool_calls': [\n",
    "                    {\n",
    "                        'id': 'call_Bktjbi0isJ0yG15IMfF1l44U',\n",
    "                        'type': 'function',\n",
    "                        'function': {\n",
    "                            'name': 'generate_addresses',\n",
    "                            'arguments': json.dumps({\n",
    "                                \"addresses\": [\n",
    "                                    {\"country\": \"United States\", \"county\": \"Los Angeles\", \"zip\": 90001},\n",
    "                                    {\"country\": \"United States\", \"county\": \"Cook\", \"zip\": 60601},\n",
    "                                    {\"country\": \"United States\", \"county\": \"Harris\", \"zip\": 77001},\n",
    "                                    {\"country\": \"United States\", \"county\": \"Maricopa\", \"zip\": 85001},\n",
    "                                    {\"country\": \"United States\", \"county\": \"San Diego\", \"zip\": 92101},\n",
    "                                    {\"country\": \"United States\", \"county\": \"Orange\", \"zip\": 92801},\n",
    "                                    {\"country\": \"United States\", \"county\": \"Miami-Dade\", \"zip\": 33101},\n",
    "                                    {\"country\": \"United States\", \"county\": \"Kings\", \"zip\": 11201},\n",
    "                                    {\"country\": \"United States\", \"county\": \"Dallas\", \"zip\": 75201},\n",
    "                                    {\"country\": \"United States\", \"county\": \"Clark\", \"zip\": 89101}\n",
    "                                ]\n",
    "                            }, indent=4)\n",
    "                        }\n",
    "                    }\n",
    "                ],\n",
    "                'refusal': None,\n",
    "                'annotations': []\n",
    "            },\n",
    "            'logprobs': None,\n",
    "            'finish_reason': 'stop'\n",
    "        }\n",
    "    ],\n",
    "    'usage': {\n",
    "        'prompt_tokens': 99,\n",
    "        'completion_tokens': 152,\n",
    "        'total_tokens': 251,\n",
    "        'prompt_tokens_details': {\n",
    "            'cached_tokens': 0,\n",
    "            'audio_tokens': 0\n",
    "        },\n",
    "        'completion_tokens_details': {\n",
    "            'reasoning_tokens': 0,\n",
    "            'audio_tokens': 0,\n",
    "            'accepted_prediction_tokens': 0,\n",
    "            'rejected_prediction_tokens': 0\n",
    "        }\n",
    "    },\n",
    "    'service_tier': 'default',\n",
    "    'system_fingerprint': 'fp_62a23a81ef',\n",
    "    'monthlyCost': 0.058697999999999986,\n",
    "    'cost': 0.001209,\n",
    "    'monthlyRequests': 81,\n",
    "    'costError': 'crypto.createHash is not a function'\n",
    "}\n",
    "\n",
    "print(json.dumps(formatted_result, indent=4))\n"
   ]
  }
 ],
 "metadata": {
  "kernelspec": {
   "display_name": "Python 3",
   "language": "python",
   "name": "python3"
  },
  "language_info": {
   "codemirror_mode": {
    "name": "ipython",
    "version": 3
   },
   "file_extension": ".py",
   "mimetype": "text/x-python",
   "name": "python",
   "nbconvert_exporter": "python",
   "pygments_lexer": "ipython3",
   "version": "3.9.6"
  }
 },
 "nbformat": 4,
 "nbformat_minor": 2
}
