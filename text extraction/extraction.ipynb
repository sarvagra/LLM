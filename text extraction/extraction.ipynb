{
 "cells": [
  {
   "cell_type": "code",
   "execution_count": 83,
   "metadata": {},
   "outputs": [],
   "source": [
    "addresses = [\n",
    "    {\"place\": \"White House\", \"address\": \"1600 Pennsylvania Avenue, Washington DC\"},\n",
    "    {\"place\": \"NYSE\", \"address\": \"11 Wall Street New York, NY\"},\n",
    "    {\"place\": \"Empire State Building\", \"address\": \"350 Fifth Avenue New York, NY 10118\"},\n",
    "    {\"place\": \"Hollywood sign\", \"address\": \"4059 Mt Lee Dr. Hollywood, CA 90068\"},\n",
    "    {\"place\": \"Statue of Liberty\", \"address\": \"Statue of Liberty, Liberty Island New York, NY 10004\"},\n",
    "    {\"place\": \"Fatehpur Sikri\", \"address\": \"Fatehpur Sikri, UP 283110, Agra\"}\n",
    "]"
   ]
  },
  {
   "cell_type": "code",
   "execution_count": 84,
   "metadata": {},
   "outputs": [],
   "source": [
    "import httpx\n",
    "from copy import deepcopy\n",
    "from dotenv import load_dotenv\n",
    "import os\n",
    "import json\n",
    "from tqdm import tqdm\n"
   ]
  },
  {
   "cell_type": "code",
   "execution_count": 77,
   "metadata": {},
   "outputs": [
    {
     "name": "stdout",
     "output_type": "stream",
     "text": [
      "OPENAI_API_KEY: None\n"
     ]
    }
   ],
   "source": [
    "OPENAI_API_KEY=os.getenv(\"OPENAI_API_KEY\")\n",
    "print(\"OPENAI_API_KEY:\", OPENAI_API_KEY)\n"
   ]
  },
  {
   "cell_type": "code",
   "execution_count": 85,
   "metadata": {},
   "outputs": [
    {
     "name": "stderr",
     "output_type": "stream",
     "text": [
      "/Users/sarvagra/Library/Python/3.9/lib/python/site-packages/urllib3/__init__.py:35: NotOpenSSLWarning: urllib3 v2 only supports OpenSSL 1.1.1+, currently the 'ssl' module is compiled with 'LibreSSL 2.8.3'. See: https://github.com/urllib3/urllib3/issues/3020\n",
      "  warnings.warn(\n"
     ]
    },
    {
     "data": {
      "text/plain": [
       "{'state_name': 'Washington DC', 'zip_code': '20500', 'country': 'USA'}"
      ]
     },
     "execution_count": 85,
     "metadata": {},
     "output_type": "execute_result"
    }
   ],
   "source": [
    "import json\n",
    "import requests\n",
    "\n",
    "def get_address(address):\n",
    "    url = \"https://aiproxy.sanand.workers.dev/openai/v1/chat/completions\"\n",
    "    headers = {\n",
    "        \"Content-Type\": \"application/json\",\n",
    "        \"Authorization\": f\"Bearer {OPENAI_API_KEY}\"\n",
    "    }\n",
    "    data = {\n",
    "        \"model\": \"gpt-4o-mini\",\n",
    "        \"response_format\": { \"type\": \"json_object\" },\n",
    "        \"messages\": [\n",
    "            {\n",
    "                \"role\": \"system\",\n",
    "                \"content\": \"\"\"\n",
    "Extract the state name, ZIP code and country as JSON.\n",
    "Use {\"state_name\": ..., \"zip_code\": ..., \"country\": 3-letter country code}\n",
    "\"\"\"\n",
    "            },\n",
    "            {\n",
    "                \"role\": \"user\",\n",
    "                \"content\": address\n",
    "            }\n",
    "        ]\n",
    "    }\n",
    "\n",
    "    response = requests.post(url, headers=headers, json=data)\n",
    "    result = response.json()\n",
    "    return json.loads(result[\"choices\"][0][\"message\"][\"content\"])\n",
    "\n",
    "get_address(addresses[0]['address'])"
   ]
  },
  {
   "cell_type": "code",
   "execution_count": 86,
   "metadata": {},
   "outputs": [
    {
     "name": "stderr",
     "output_type": "stream",
     "text": [
      "100%|██████████| 6/6 [00:29<00:00,  4.83s/it]\n"
     ]
    }
   ],
   "source": [
    "# deepcopy the addreses\n",
    "addr = deepcopy(addresses)\n",
    "for item in tqdm(addr):\n",
    "    item.update(get_address(item[\"address\"]))"
   ]
  },
  {
   "cell_type": "code",
   "execution_count": null,
   "metadata": {},
   "outputs": [
    {
     "data": {
      "text/html": [
       "<div>\n",
       "<style scoped>\n",
       "    .dataframe tbody tr th:only-of-type {\n",
       "        vertical-align: middle;\n",
       "    }\n",
       "\n",
       "    .dataframe tbody tr th {\n",
       "        vertical-align: top;\n",
       "    }\n",
       "\n",
       "    .dataframe thead th {\n",
       "        text-align: right;\n",
       "    }\n",
       "</style>\n",
       "<table border=\"1\" class=\"dataframe\">\n",
       "  <thead>\n",
       "    <tr style=\"text-align: right;\">\n",
       "      <th></th>\n",
       "      <th>place</th>\n",
       "      <th>address</th>\n",
       "      <th>state_name</th>\n",
       "      <th>zip_code</th>\n",
       "      <th>country</th>\n",
       "    </tr>\n",
       "  </thead>\n",
       "  <tbody>\n",
       "    <tr>\n",
       "      <th>0</th>\n",
       "      <td>White House</td>\n",
       "      <td>1600 Pennsylvania Avenue, Washington DC</td>\n",
       "      <td>Washington DC</td>\n",
       "      <td>20500</td>\n",
       "      <td>USA</td>\n",
       "    </tr>\n",
       "    <tr>\n",
       "      <th>1</th>\n",
       "      <td>NYSE</td>\n",
       "      <td>11 Wall Street New York, NY</td>\n",
       "      <td>New York</td>\n",
       "      <td>10005</td>\n",
       "      <td>USA</td>\n",
       "    </tr>\n",
       "    <tr>\n",
       "      <th>2</th>\n",
       "      <td>Empire State Building</td>\n",
       "      <td>350 Fifth Avenue New York, NY 10118</td>\n",
       "      <td>New York</td>\n",
       "      <td>10118</td>\n",
       "      <td>USA</td>\n",
       "    </tr>\n",
       "    <tr>\n",
       "      <th>3</th>\n",
       "      <td>Hollywood sign</td>\n",
       "      <td>4059 Mt Lee Dr. Hollywood, CA 90068</td>\n",
       "      <td>California</td>\n",
       "      <td>90068</td>\n",
       "      <td>USA</td>\n",
       "    </tr>\n",
       "    <tr>\n",
       "      <th>4</th>\n",
       "      <td>Statue of Liberty</td>\n",
       "      <td>Statue of Liberty, Liberty Island New York, NY...</td>\n",
       "      <td>New York</td>\n",
       "      <td>10004</td>\n",
       "      <td>USA</td>\n",
       "    </tr>\n",
       "    <tr>\n",
       "      <th>5</th>\n",
       "      <td>Fatehpur Sikri</td>\n",
       "      <td>Fatehpur Sikri, UP 283110, Agra</td>\n",
       "      <td>Uttar Pradesh</td>\n",
       "      <td>283110</td>\n",
       "      <td>IND</td>\n",
       "    </tr>\n",
       "  </tbody>\n",
       "</table>\n",
       "</div>"
      ],
      "text/plain": [
       "                   place                                            address  \\\n",
       "0            White House            1600 Pennsylvania Avenue, Washington DC   \n",
       "1                   NYSE                        11 Wall Street New York, NY   \n",
       "2  Empire State Building                350 Fifth Avenue New York, NY 10118   \n",
       "3         Hollywood sign                4059 Mt Lee Dr. Hollywood, CA 90068   \n",
       "4      Statue of Liberty  Statue of Liberty, Liberty Island New York, NY...   \n",
       "5         Fatehpur Sikri                    Fatehpur Sikri, UP 283110, Agra   \n",
       "\n",
       "      state_name zip_code country  \n",
       "0  Washington DC    20500     USA  \n",
       "1       New York    10005     USA  \n",
       "2       New York    10118     USA  \n",
       "3     California    90068     USA  \n",
       "4       New York    10004     USA  \n",
       "5  Uttar Pradesh   283110     IND  "
      ]
     },
     "execution_count": 89,
     "metadata": {},
     "output_type": "execute_result"
    }
   ],
   "source": [
    "import pandas as pd\n",
    "df = pd.DataFrame(addr)\n"
   ]
  },
  {
   "cell_type": "code",
   "execution_count": 92,
   "metadata": {},
   "outputs": [],
   "source": [
    "# Target output\n",
    "# {\n",
    "#     \"state\": {\"name\": \"Washington DC\", \"code\": \"DC\"},\n",
    "#     \"country\": {\"name\": \"India\", \"code\": \"IND\"},\n",
    "#     \"zip\": {\"code\": \"...\"}\n",
    "# }\n",
    "\n",
    "schema =  {\n",
    "  \"type\": \"object\",\n",
    "  \"properties\": {\n",
    "    \"state\": {\n",
    "      \"type\": \"object\",\n",
    "      \"description\": \"Details about the state\",\n",
    "      \"properties\": {\n",
    "        \"name\": {\n",
    "          \"type\": \"string\",\n",
    "          \"description\": \"Official state name\"\n",
    "        },\n",
    "        \"code\": {\n",
    "          \"type\": \"string\",\n",
    "          \"description\": \"Official state code\"\n",
    "        }\n",
    "      },\n",
    "      \"required\": [\"name\", \"code\"]\n",
    "    },\n",
    "    \"country\": {\n",
    "      \"type\": \"object\",\n",
    "      \"description\": \"Details about the country\",\n",
    "      \"properties\": {\n",
    "        \"name\": {\n",
    "          \"type\": \"string\",\n",
    "          \"description\": \"Official country name\"\n",
    "        },\n",
    "        \"code\": {\n",
    "          \"type\": \"string\",\n",
    "          \"description\": \"3-letter country code\"\n",
    "        }\n",
    "      },\n",
    "      \"required\": [\"name\", \"code\"]\n",
    "    },\n",
    "    \"zip\": {\n",
    "      \"type\": \"object\",\n",
    "      \"description\": \"Details about the ZIP code\",\n",
    "      \"properties\": {\n",
    "        \"code\": {\n",
    "          \"type\": \"string\",\n",
    "          \"description\": \"ZIP code\"\n",
    "        }\n",
    "      },\n",
    "      \"required\": [\"code\"]\n",
    "    }\n",
    "  },\n",
    "  \"required\": [\"state\", \"country\", \"zip\"]\n",
    "}"
   ]
  },
  {
   "cell_type": "code",
   "execution_count": 94,
   "metadata": {},
   "outputs": [
    {
     "data": {
      "text/plain": [
       "{'state': {'name': 'District of Columbia', 'code': 'DC'},\n",
       " 'country': {'name': 'United States', 'code': 'USA'},\n",
       " 'zip': {'code': ''}}"
      ]
     },
     "execution_count": 94,
     "metadata": {},
     "output_type": "execute_result"
    }
   ],
   "source": [
    "def get_address_schema(address):\n",
    "    url = \"https://aiproxy.sanand.workers.dev/openai/v1/chat/completions\"\n",
    "    headers = {\n",
    "        \"Content-Type\": \"application/json\",\n",
    "        \"Authorization\": f\"Bearer {OPENAI_API_KEY}\"\n",
    "    }\n",
    "    data = {\n",
    "        \"model\": \"gpt-4o-mini\",\n",
    "        \"response_format\": { \"type\": \"json_object\" },\n",
    "        \"tools\": [\n",
    "          {\"type\": \"function\", \"function\": {\"name\": \"extract_address\", \"description\": \"Extract address details\", \"parameters\": schema}}\n",
    "        ],\n",
    "        \"tool_choice\": {\"type\": \"function\", \"function\": {\"name\": \"extract_address\"}},\n",
    "        \"messages\": [\n",
    "            {\n",
    "                \"role\": \"system\",\n",
    "                \"content\": \"Get address as JSON via extract_address. If unsure, leave fields blank.\"\n",
    "            },\n",
    "            {\n",
    "                \"role\": \"user\",\n",
    "                \"content\": address\n",
    "            }\n",
    "        ]\n",
    "    }\n",
    "\n",
    "    response = requests.post(url, headers=headers, json=data)\n",
    "    result = response.json()\n",
    "    return json.loads(result[\"choices\"][0][\"message\"][\"tool_calls\"][0][\"function\"][\"arguments\"])\n",
    "\n",
    "get_address_schema(addresses[0]['address'])"
   ]
  },
  {
   "cell_type": "code",
   "execution_count": 95,
   "metadata": {},
   "outputs": [
    {
     "data": {
      "text/plain": [
       "{'state': {'name': 'California', 'code': 'CA'},\n",
       " 'country': {'name': 'United States', 'code': 'USA'},\n",
       " 'zip': {'code': '90068'}}"
      ]
     },
     "execution_count": 95,
     "metadata": {},
     "output_type": "execute_result"
    }
   ],
   "source": [
    "# another usage : \n",
    "get_address_schema(\"4059 Mt Lee Dr. Hollywood, CA 90068\")"
   ]
  }
 ],
 "metadata": {
  "kernelspec": {
   "display_name": "Python 3",
   "language": "python",
   "name": "python3"
  },
  "language_info": {
   "codemirror_mode": {
    "name": "ipython",
    "version": 3
   },
   "file_extension": ".py",
   "mimetype": "text/x-python",
   "name": "python",
   "nbconvert_exporter": "python",
   "pygments_lexer": "ipython3",
   "version": "3.9.6"
  }
 },
 "nbformat": 4,
 "nbformat_minor": 2
}
