{
 "cells": [
  {
   "cell_type": "markdown",
   "metadata": {},
   "source": [
    "# **Acme Global Solutions - Invoice Text Extraction Project**\n",
    "\n",
    "## **Overview**\n",
    "Acme Global Solutions processes hundreds of invoices from vendors every month. To improve efficiency, the company is developing an **automated document processing system** that uses **computer vision** to extract useful text from scanned invoice images.\n",
    "\n",
    "## **Objective**\n",
    "The system must extract **critical information** from invoice images, including:\n",
    "- **Vendor email addresses** (e.g., `alice.brown@acmeglobal.com`)\n",
    "- **Invoice or transaction numbers** (e.g., `34921`)\n",
    "- Other **embedded text details** within invoices\n",
    "\n",
    "Your task is to **integrate OpenAI’s vision model (`gpt-4o-mini`)** into this workflow.\n",
    "\n",
    "## **Implementation Details**\n",
    "The automation system will:\n",
    "1. **Send a POST request** to OpenAI's API.\n",
    "2. **Pass two inputs** in a single user message:\n",
    "   - **Text instruction:** `\"Extract text from this image.\"`\n",
    "   - **Image URL:** A **Base64-encoded URL** representing the invoice image.\n",
    "3. **Receive extracted text** and populate the **vendor management system**.\n",
    "\n",
    "## **Expected Request Format**\n",
    "Your request must: <br>\n",
    "✅ Use **OpenAI's GPT-4o-mini**  \n",
    "✅ Send a single user message containing both **text and image URL**  \n",
    "✅ Ensure the **image_url remains unchanged** (no modifications)  \n",
    "\n",
    "## **Required JSON Body Structure**\n",
    "Write a JSON body that:\n",
    "- Uses **`gpt-4o-mini`** as the model.\n",
    "- Sends **two types of content** (`text` and `image_url`).\n",
    "- Ensures the **text instruction appears first**, followed by the **image URL**.\n",
    "\n",
    "## **Example Invoice Image**\n",
    "An invoice image contains structured details such as:\n",
    "- Vendor name and email\n",
    "- Transaction number\n",
    "- Invoice date and amount\n",
    "\n",
    "Your integration must ensure precise extraction of **all embedded text**.\n",
    "Here is the image : [Invoice.png](../resources/invoice.png)\n",
    "\n"
   ]
  },
  {
   "cell_type": "code",
   "execution_count": 1,
   "metadata": {},
   "outputs": [],
   "source": [
    "import base64\n",
    "import httpx\n",
    "import os \n",
    "from dotenv import load_dotenv"
   ]
  },
  {
   "cell_type": "code",
   "execution_count": null,
   "metadata": {},
   "outputs": [
    {
     "name": "stdout",
     "output_type": "stream",
     "text": [
      "data:image/png;base64,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\n"
     ]
    }
   ],
   "source": [
    "# convert an image into base64 \n",
    "def image_to_base64(image_path):\n",
    "    with open(image_path, \"rb\") as image_file:\n",
    "        encoded_string = base64.b64encode(image_file.read()).decode('utf-8')\n",
    "    return encoded_string\n",
    "encoded_string =\"data:image/png;base64,\"+image_to_base64(\"../resources/invoice.png\")\n",
    "print(encoded_string)\n"
   ]
  },
  {
   "cell_type": "code",
   "execution_count": 15,
   "metadata": {},
   "outputs": [],
   "source": [
    "OPENAI_API_KEY = os.getenv(\"OPENAI_API_KEY\")\n",
    "url=\"https://aiproxy.sanand.workers.dev/openai/v1/chat/completions\"\n"
   ]
  },
  {
   "cell_type": "code",
   "execution_count": null,
   "metadata": {},
   "outputs": [],
   "source": [
    "# create a request to the OpenAI API\n",
    "headers={\n",
    "    \"Authorization\":f\"Bearer {OPENAI_API_KEY}\",\n",
    "    \"Content-Type\":\"application/json\"\n",
    "}\n",
    "json={\n",
    "    \"model\":\"gpt-4o-mini\",\n",
    "    \"messages\": [\n",
    "        {\n",
    "            \"role\": \"user\",\n",
    "            \"content\": [\n",
    "                {\n",
    "                    \"type\": \"text\",\n",
    "                    \"text\": \"Extract text from this image as \\\"vendor_email\\\" and \\\"transaction_id\\\" \"\n",
    "                },\n",
    "                {\n",
    "                    \"type\": \"image_url\",\n",
    "                    \"image_url\": {\n",
    "                        \"detail\": \"low\",\n",
    "                        \"url\": encoded_string\n",
    "                    }\n",
    "                }\n",
    "            ]\n",
    "        }\n",
    "    ]\n",
    "\n",
    "}"
   ]
  },
  {
   "cell_type": "code",
   "execution_count": 22,
   "metadata": {},
   "outputs": [
    {
     "name": "stdout",
     "output_type": "stream",
     "text": [
      "{'id': 'chatcmpl-BdCez8SQjmo2le8CVbzvRxdY6dLyG', 'object': 'chat.completion', 'created': 1748683157, 'model': 'gpt-4o-mini-2024-07-18', 'choices': [{'index': 0, 'message': {'role': 'assistant', 'content': '```json\\n{\\n  \"vendor_email\": \"2410094202@gst.study.jitm.ac.in\",\\n  \"transaction_id\": \"23814230\"\\n}\\n```', 'refusal': None, 'annotations': []}, 'logprobs': None, 'finish_reason': 'stop'}], 'usage': {'prompt_tokens': 2856, 'completion_tokens': 34, 'total_tokens': 2890, 'prompt_tokens_details': {'cached_tokens': 0, 'audio_tokens': 0}, 'completion_tokens_details': {'reasoning_tokens': 0, 'audio_tokens': 0, 'accepted_prediction_tokens': 0, 'rejected_prediction_tokens': 0}}, 'service_tier': 'default', 'system_fingerprint': 'fp_62a23a81ef', 'monthlyCost': 0.10394699999999998, 'cost': 0.008772, 'monthlyRequests': 91, 'costError': 'crypto.createHash is not a function'}\n"
     ]
    }
   ],
   "source": [
    "# send the request to OpenAI API\n",
    "response=httpx.post(url,headers=headers,json=json,timeout=30)\n",
    "result=response.json()\n",
    "print(result)"
   ]
  },
  {
   "cell_type": "code",
   "execution_count": 23,
   "metadata": {},
   "outputs": [
    {
     "name": "stdout",
     "output_type": "stream",
     "text": [
      "```json\n",
      "{\n",
      "  \"vendor_email\": \"2410094202@gst.study.jitm.ac.in\",\n",
      "  \"transaction_id\": \"23814230\"\n",
      "}\n",
      "```\n"
     ]
    }
   ],
   "source": [
    "# extract the response text\n",
    "print(result['choices'][0]['message']['content'])"
   ]
  }
 ],
 "metadata": {
  "kernelspec": {
   "display_name": "Python 3",
   "language": "python",
   "name": "python3"
  },
  "language_info": {
   "codemirror_mode": {
    "name": "ipython",
    "version": 3
   },
   "file_extension": ".py",
   "mimetype": "text/x-python",
   "name": "python",
   "nbconvert_exporter": "python",
   "pygments_lexer": "ipython3",
   "version": "3.9.6"
  }
 },
 "nbformat": 4,
 "nbformat_minor": 2
}
